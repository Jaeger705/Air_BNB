{
 "cells": [
  {
   "cell_type": "markdown",
   "metadata": {},
   "source": [
    "# AirBnB NY Locations Data Case Study\n",
    "\n",
    "In this final project, you task will be to take the data provided and find evidance to answer the following questions.\n",
    "\n",
    "1. Which hosts are the busiest and why?\n",
    "2. How many neighborhood groups are available and which shows up the most?\n",
    "3. Are private rooms the most popular in manhattan?\n",
    "4. Which hosts are the busiest and based on their reviews?\n",
    "5. Which neighorhood group has the highest average price?\n",
    "6. Which neighborhood group has the highest total price?\n",
    "7. Which top 5 hosts have the highest total price?\n",
    "8. Who currently has no (zero) availability with a review count of 100 or more?\n",
    "9. What host has the highest total of prices and where are they located?\n",
    "10. When did Danielle from Queens last receive a review?\n",
    "\n",
    "You will be given **4 hours** to complete this assignment. \n",
    "**Be Advised** I will go dark for this intire assignment time period. That said, any questions that you would like to ask about the data, or the project **MUST** be asked before the time starts. Once the time has started, I can no longer give information.\n",
    "\n",
    "This is to similate what you will face when you are out in the wild. \n",
    "\n",
    "Happy Coding!"
   ]
  },
  {
   "cell_type": "code",
   "execution_count": 3,
   "metadata": {},
   "outputs": [],
   "source": [
    "import numpy as np\n",
    "import pandas as pd\n",
    "import matplotlib.pyplot as plt"
   ]
  },
  {
   "cell_type": "code",
   "execution_count": 5,
   "metadata": {},
   "outputs": [
    {
     "data": {
      "text/html": [
       "<div>\n",
       "<style scoped>\n",
       "    .dataframe tbody tr th:only-of-type {\n",
       "        vertical-align: middle;\n",
       "    }\n",
       "\n",
       "    .dataframe tbody tr th {\n",
       "        vertical-align: top;\n",
       "    }\n",
       "\n",
       "    .dataframe thead th {\n",
       "        text-align: right;\n",
       "    }\n",
       "</style>\n",
       "<table border=\"1\" class=\"dataframe\">\n",
       "  <thead>\n",
       "    <tr style=\"text-align: right;\">\n",
       "      <th></th>\n",
       "      <th>id</th>\n",
       "      <th>name</th>\n",
       "      <th>host_id</th>\n",
       "      <th>host_name</th>\n",
       "      <th>neighbourhood_group</th>\n",
       "      <th>neighbourhood</th>\n",
       "      <th>latitude</th>\n",
       "      <th>longitude</th>\n",
       "      <th>room_type</th>\n",
       "      <th>price</th>\n",
       "      <th>minimum_nights</th>\n",
       "      <th>number_of_reviews</th>\n",
       "      <th>last_review</th>\n",
       "      <th>reviews_per_month</th>\n",
       "      <th>calculated_host_listings_count</th>\n",
       "      <th>availability_365</th>\n",
       "    </tr>\n",
       "  </thead>\n",
       "  <tbody>\n",
       "    <tr>\n",
       "      <th>0</th>\n",
       "      <td>2539</td>\n",
       "      <td>Clean &amp; quiet apt home by the park</td>\n",
       "      <td>2787</td>\n",
       "      <td>John</td>\n",
       "      <td>Brooklyn</td>\n",
       "      <td>Kensington</td>\n",
       "      <td>40.64749</td>\n",
       "      <td>-73.97237</td>\n",
       "      <td>Private room</td>\n",
       "      <td>149</td>\n",
       "      <td>1</td>\n",
       "      <td>9</td>\n",
       "      <td>2018-10-19</td>\n",
       "      <td>0.21</td>\n",
       "      <td>6</td>\n",
       "      <td>365</td>\n",
       "    </tr>\n",
       "    <tr>\n",
       "      <th>1</th>\n",
       "      <td>2595</td>\n",
       "      <td>Skylit Midtown Castle</td>\n",
       "      <td>2845</td>\n",
       "      <td>Jennifer</td>\n",
       "      <td>Manhattan</td>\n",
       "      <td>Midtown</td>\n",
       "      <td>40.75362</td>\n",
       "      <td>-73.98377</td>\n",
       "      <td>Entire home/apt</td>\n",
       "      <td>225</td>\n",
       "      <td>1</td>\n",
       "      <td>45</td>\n",
       "      <td>2019-05-21</td>\n",
       "      <td>0.38</td>\n",
       "      <td>2</td>\n",
       "      <td>355</td>\n",
       "    </tr>\n",
       "    <tr>\n",
       "      <th>2</th>\n",
       "      <td>3647</td>\n",
       "      <td>THE VILLAGE OF HARLEM....NEW YORK !</td>\n",
       "      <td>4632</td>\n",
       "      <td>Elisabeth</td>\n",
       "      <td>Manhattan</td>\n",
       "      <td>Harlem</td>\n",
       "      <td>40.80902</td>\n",
       "      <td>-73.94190</td>\n",
       "      <td>Private room</td>\n",
       "      <td>150</td>\n",
       "      <td>3</td>\n",
       "      <td>0</td>\n",
       "      <td>NaN</td>\n",
       "      <td>NaN</td>\n",
       "      <td>1</td>\n",
       "      <td>365</td>\n",
       "    </tr>\n",
       "    <tr>\n",
       "      <th>3</th>\n",
       "      <td>3831</td>\n",
       "      <td>Cozy Entire Floor of Brownstone</td>\n",
       "      <td>4869</td>\n",
       "      <td>LisaRoxanne</td>\n",
       "      <td>Brooklyn</td>\n",
       "      <td>Clinton Hill</td>\n",
       "      <td>40.68514</td>\n",
       "      <td>-73.95976</td>\n",
       "      <td>Entire home/apt</td>\n",
       "      <td>89</td>\n",
       "      <td>1</td>\n",
       "      <td>270</td>\n",
       "      <td>2019-07-05</td>\n",
       "      <td>4.64</td>\n",
       "      <td>1</td>\n",
       "      <td>194</td>\n",
       "    </tr>\n",
       "    <tr>\n",
       "      <th>4</th>\n",
       "      <td>5022</td>\n",
       "      <td>Entire Apt: Spacious Studio/Loft by central park</td>\n",
       "      <td>7192</td>\n",
       "      <td>Laura</td>\n",
       "      <td>Manhattan</td>\n",
       "      <td>East Harlem</td>\n",
       "      <td>40.79851</td>\n",
       "      <td>-73.94399</td>\n",
       "      <td>Entire home/apt</td>\n",
       "      <td>80</td>\n",
       "      <td>10</td>\n",
       "      <td>9</td>\n",
       "      <td>2018-11-19</td>\n",
       "      <td>0.10</td>\n",
       "      <td>1</td>\n",
       "      <td>0</td>\n",
       "    </tr>\n",
       "  </tbody>\n",
       "</table>\n",
       "</div>"
      ],
      "text/plain": [
       "     id                                              name  host_id  \\\n",
       "0  2539                Clean & quiet apt home by the park     2787   \n",
       "1  2595                             Skylit Midtown Castle     2845   \n",
       "2  3647               THE VILLAGE OF HARLEM....NEW YORK !     4632   \n",
       "3  3831                   Cozy Entire Floor of Brownstone     4869   \n",
       "4  5022  Entire Apt: Spacious Studio/Loft by central park     7192   \n",
       "\n",
       "     host_name neighbourhood_group neighbourhood  latitude  longitude  \\\n",
       "0         John            Brooklyn    Kensington  40.64749  -73.97237   \n",
       "1     Jennifer           Manhattan       Midtown  40.75362  -73.98377   \n",
       "2    Elisabeth           Manhattan        Harlem  40.80902  -73.94190   \n",
       "3  LisaRoxanne            Brooklyn  Clinton Hill  40.68514  -73.95976   \n",
       "4        Laura           Manhattan   East Harlem  40.79851  -73.94399   \n",
       "\n",
       "         room_type  price  minimum_nights  number_of_reviews last_review  \\\n",
       "0     Private room    149               1                  9  2018-10-19   \n",
       "1  Entire home/apt    225               1                 45  2019-05-21   \n",
       "2     Private room    150               3                  0         NaN   \n",
       "3  Entire home/apt     89               1                270  2019-07-05   \n",
       "4  Entire home/apt     80              10                  9  2018-11-19   \n",
       "\n",
       "   reviews_per_month  calculated_host_listings_count  availability_365  \n",
       "0               0.21                               6               365  \n",
       "1               0.38                               2               355  \n",
       "2                NaN                               1               365  \n",
       "3               4.64                               1               194  \n",
       "4               0.10                               1                 0  "
      ]
     },
     "execution_count": 5,
     "metadata": {},
     "output_type": "execute_result"
    }
   ],
   "source": [
    "air_bnb = pd.read_csv(r'C:\\Users\\bigbo\\CodingTemple\\Python\\Air BnB\\AB_NYC_2019 - AB_NYC_2019.csv')\n",
    "air_bnb.head()"
   ]
  },
  {
   "cell_type": "code",
   "execution_count": 6,
   "metadata": {},
   "outputs": [
    {
     "data": {
      "text/plain": [
       "(5, 'Manhattan', 21661)"
      ]
     },
     "execution_count": 6,
     "metadata": {},
     "output_type": "execute_result"
    }
   ],
   "source": [
    "# How many neighborhood groups are available and which shows up the most?\n",
    "\n",
    "# Identify and count the unique neighborhood groups\n",
    "neighbourhood_group_counts = air_bnb['neighbourhood_group'].value_counts()\n",
    "\n",
    "# Determine the number of unique neighborhood groups\n",
    "unique_neighbourhood_groups = len(neighbourhood_group_counts)\n",
    "\n",
    "# Identify the neighborhood group that appears the most and its count\n",
    "most_common_group = neighbourhood_group_counts.idxmax()\n",
    "most_common_count = neighbourhood_group_counts.max()\n",
    "\n",
    "unique_neighbourhood_groups, most_common_group, most_common_count\n"
   ]
  },
  {
   "cell_type": "code",
   "execution_count": 7,
   "metadata": {},
   "outputs": [
    {
     "data": {
      "text/plain": [
       "('Entire home/apt',\n",
       " 13199,\n",
       " room_type\n",
       " Entire home/apt    13199\n",
       " Private room        7982\n",
       " Shared room          480\n",
       " Name: count, dtype: int64)"
      ]
     },
     "execution_count": 7,
     "metadata": {},
     "output_type": "execute_result"
    }
   ],
   "source": [
    "# Are private rooms the most popular in manhattan?\n",
    "\n",
    "\n",
    "\n",
    "# Filter data for listings in Manhattan\n",
    "manhattan_data = air_bnb[air_bnb['neighbourhood_group'] == 'Manhattan']\n",
    "\n",
    "# Count the occurrences of each room type in Manhattan\n",
    "manhattan_room_type_counts = manhattan_data['room_type'].value_counts()\n",
    "\n",
    "# Identify the most common room type in Manhattan and its count\n",
    "most_common_room_type_manhattan = manhattan_room_type_counts.idxmax()\n",
    "most_common_room_type_count_manhattan = manhattan_room_type_counts.max()\n",
    "\n",
    "most_common_room_type_manhattan, most_common_room_type_count_manhattan, manhattan_room_type_counts\n",
    "#Answer Yes private rooms are more popular.\n"
   ]
  },
  {
   "cell_type": "code",
   "execution_count": 9,
   "metadata": {},
   "outputs": [
    {
     "data": {
      "text/plain": [
       "host_id\n",
       "37312959     2273\n",
       "344035       2205\n",
       "26432133     2017\n",
       "35524316     1971\n",
       "40176101     1818\n",
       "4734398      1798\n",
       "16677326     1355\n",
       "6885157      1346\n",
       "219517861    1281\n",
       "23591164     1269\n",
       "Name: number_of_reviews, dtype: int64"
      ]
     },
     "execution_count": 9,
     "metadata": {},
     "output_type": "execute_result"
    }
   ],
   "source": [
    "# Which hosts are the busiest and based on their reviews?\n",
    "\n",
    "# Aggregate the total number of reviews by host_id\n",
    "host_review_counts = air_bnb.groupby('host_id')['number_of_reviews'].sum()\n",
    "\n",
    "# Sort the hosts by their total number of reviews in descending order\n",
    "sorted_host_review_counts = host_review_counts.sort_values(ascending=False)\n",
    "\n",
    "# Get the top 10 busiest hosts based on reviews\n",
    "top_10_busiest_hosts = sorted_host_review_counts.head(10)\n",
    "\n",
    "top_10_busiest_hosts\n",
    "print('')\n"
   ]
  },
  {
   "cell_type": "code",
   "execution_count": 10,
   "metadata": {},
   "outputs": [
    {
     "data": {
      "text/plain": [
       "('Manhattan',\n",
       " 196.8758136743456,\n",
       " neighbourhood_group\n",
       " Bronx             87.496792\n",
       " Brooklyn         124.383207\n",
       " Manhattan        196.875814\n",
       " Queens            99.517649\n",
       " Staten Island    114.812332\n",
       " Name: price, dtype: float64)"
      ]
     },
     "execution_count": 10,
     "metadata": {},
     "output_type": "execute_result"
    }
   ],
   "source": [
    "#Which neighorhood group has the highest average price?\n",
    "\n",
    "\n",
    "# Calculate the average price for each neighborhood group\n",
    "average_price_by_neighbourhood_group = air_bnb.groupby('neighbourhood_group')['price'].mean()\n",
    "\n",
    "# Identify the neighborhood group with the highest average price\n",
    "highest_average_price_neighbourhood_group = average_price_by_neighbourhood_group.idxmax()\n",
    "highest_average_price = average_price_by_neighbourhood_group.max()\n",
    "\n",
    "highest_average_price_neighbourhood_group, highest_average_price, average_price_by_neighbourhood_group\n"
   ]
  },
  {
   "cell_type": "code",
   "execution_count": 11,
   "metadata": {},
   "outputs": [
    {
     "data": {
      "text/plain": [
       "('Manhattan',\n",
       " 4264527,\n",
       " neighbourhood_group\n",
       " Bronx              95459\n",
       " Brooklyn         2500600\n",
       " Manhattan        4264527\n",
       " Queens            563867\n",
       " Staten Island      42825\n",
       " Name: price, dtype: int64)"
      ]
     },
     "execution_count": 11,
     "metadata": {},
     "output_type": "execute_result"
    }
   ],
   "source": [
    "# Which neighbor hood group has the highest total price?\n",
    "\n",
    "\n",
    "# Calculate the total price for each neighborhood group\n",
    "total_price_by_neighbourhood_group = air_bnb.groupby('neighbourhood_group')['price'].sum()\n",
    "\n",
    "# Identify the neighborhood group with the highest total price\n",
    "highest_total_price_neighbourhood_group = total_price_by_neighbourhood_group.idxmax()\n",
    "highest_total_price = total_price_by_neighbourhood_group.max()\n",
    "\n",
    "highest_total_price_neighbourhood_group, highest_total_price, total_price_by_neighbourhood_group\n",
    "\n"
   ]
  },
  {
   "cell_type": "code",
   "execution_count": 12,
   "metadata": {},
   "outputs": [
    {
     "data": {
      "text/plain": [
       "host_id\n",
       "219517861    82795\n",
       "107434423    70331\n",
       "156158778    37097\n",
       "205031545    35294\n",
       "30283594     33581\n",
       "Name: price, dtype: int64"
      ]
     },
     "execution_count": 12,
     "metadata": {},
     "output_type": "execute_result"
    }
   ],
   "source": [
    "#Which top 5 hosts have the highest total price?\n",
    "\n",
    "\n",
    "# Aggregate the total price by host_id\n",
    "host_total_price = air_bnb.groupby('host_id')['price'].sum()\n",
    "\n",
    "# Sort the hosts by their total price in descending order\n",
    "sorted_host_total_price = host_total_price.sort_values(ascending=False)\n",
    "\n",
    "# Get the top 5 hosts with the highest total price\n",
    "top_5_hosts_highest_total_price = sorted_host_total_price.head(5)\n",
    "\n",
    "top_5_hosts_highest_total_price\n"
   ]
  },
  {
   "cell_type": "code",
   "execution_count": 13,
   "metadata": {},
   "outputs": [
    {
     "data": {
      "text/plain": [
       "(148,\n",
       " array([     7490,     79402,    129352,    193722,     67778,    239208,\n",
       "           303939,    522065,    683975,    242506,    792159,   1311398,\n",
       "          1358312,   1360043,     36897,   1492339,   1503831,   1649300,\n",
       "          1935605,   1146958,   2265770,   2275829,   2361715,   1787284,\n",
       "          1215949,   2494666,   3558158,   3778274,   3880974,   3955766,\n",
       "          4129805,   1099716,   4434798,   5634395,    663764,    585273,\n",
       "          6482637,   3571821,   6774871,   7581642,   5464042,   4983320,\n",
       "          8732694,   1562642,   8910286,   9234456,   9268156,   3187531,\n",
       "          1726966,  11947308,   3793026,  16266298,  16106756,  13337141,\n",
       "         17820079,   3912009,  17224426,  18219988,  18834080,   9492212,\n",
       "           610819,  22171095,  21641206,   6465286,  21688465,  17921968,\n",
       "          3417940,  22210080,  25404246,  10795846,   7463662,  23719409,\n",
       "         28723165,  30314132,  24561040,  31040344,  31150792,   1197823,\n",
       "         25915648,  33750239,  23082955,   5577926,  36644635,  39603420,\n",
       "         22959695,  40371157,  43509184,  10024006,  31104953,  44924546,\n",
       "         23073564,  37818581,  48726094,  48970186,  22423049,  49511227,\n",
       "          5291029,  50144728,  24175837,  36638599,  51954926,  21430239,\n",
       "         27431753,   8049682,    814747,    790177,   3417090,  61972032,\n",
       "           116382,  14898658,  67261284,  42399786,   6458590,  32357613,\n",
       "         84779589,  87152012,  84141923,   9030221,  95419310,  92195100,\n",
       "         26073602,  99392252,  96148809, 102080453, 103488282,   3479852,\n",
       "         35998113,   2300134, 107296819,  94100043, 121391142,  31658624,\n",
       "          3203397,  10402380, 138721769,  28270349,  94206273, 142878742,\n",
       "        133810925, 143944704,  50760404,   7097558, 159156636, 127740507,\n",
       "        176185168,  21074914,  40119874, 209549523], dtype=int64))"
      ]
     },
     "execution_count": 13,
     "metadata": {},
     "output_type": "execute_result"
    }
   ],
   "source": [
    "# Who currently has no (zero) availability with a review count of 100 or more?\n",
    "\n",
    "\n",
    "\n",
    "# Filter data for listings with zero availability and 100 or more reviews\n",
    "no_availability_high_reviews = air_bnb[(air_bnb['availability_365'] == 0) & (air_bnb['number_of_reviews'] >= 100)]\n",
    "\n",
    "# Extract unique host_ids from the filtered dataset\n",
    "unique_hosts_no_availability_high_reviews = no_availability_high_reviews['host_id'].unique()\n",
    "\n",
    "# Count of such hosts\n",
    "count_hosts_no_availability_high_reviews = len(unique_hosts_no_availability_high_reviews)\n",
    "\n",
    "count_hosts_no_availability_high_reviews, unique_hosts_no_availability_high_reviews\n",
    "# Answer 148 hosts"
   ]
  },
  {
   "cell_type": "code",
   "execution_count": 14,
   "metadata": {},
   "outputs": [
    {
     "data": {
      "text/plain": [
       "(219517861,\n",
       " 82795,\n",
       " neighbourhood_group             Manhattan\n",
       " neighbourhood          Financial District\n",
       " Name: 38293, dtype: object)"
      ]
     },
     "execution_count": 14,
     "metadata": {},
     "output_type": "execute_result"
    }
   ],
   "source": [
    "# What host has the highest total of prices and where are they located?\n",
    "\n",
    "\n",
    "# Aggregate the total price by host_id\n",
    "host_total_price = air_bnb.groupby('host_id')['price'].sum()\n",
    "\n",
    "# Find the host_id with the highest total price\n",
    "highest_price_host_id = host_total_price.idxmax()\n",
    "highest_total_price = host_total_price.max()\n",
    "\n",
    "# Find the location of the host's most expensive listing\n",
    "host_highest_price_location = air_bnb[air_bnb['host_id'] == highest_price_host_id].iloc[0][['neighbourhood_group', 'neighbourhood']]\n",
    "\n",
    "highest_price_host_id, highest_total_price, host_highest_price_location\n"
   ]
  },
  {
   "cell_type": "code",
   "execution_count": 16,
   "metadata": {},
   "outputs": [
    {
     "name": "stdout",
     "output_type": "stream",
     "text": [
      "2019-07-08 00:00:00\n"
     ]
    }
   ],
   "source": [
    "# When did Danielle from Queens last receive a review?\n",
    "\n",
    "# Assume air_bnb is your DataFrame\n",
    "# Convert 'last_review' to datetime format right at the beginning\n",
    "air_bnb['last_review'] = pd.to_datetime(air_bnb['last_review'], errors='coerce')\n",
    "\n",
    "# Filter for Danielle's listings in Queens\n",
    "danielle_queens_listings = air_bnb[(air_bnb['host_name'] == 'Danielle') & (air_bnb['neighbourhood_group'] == 'Queens')]\n",
    "\n",
    "# Ensure to work only with listings that have a review date\n",
    "danielle_queens_listings_with_reviews = danielle_queens_listings.dropna(subset=['last_review'])\n",
    "\n",
    "# Now, finding the most recent review date should be error-free\n",
    "most_recent_review_date_danielle_queens = danielle_queens_listings_with_reviews['last_review'].max()\n",
    "\n",
    "print(most_recent_review_date_danielle_queens)\n",
    "\n",
    "#2019-07-08"
   ]
  },
  {
   "cell_type": "markdown",
   "metadata": {},
   "source": [
    "## Further Questions\n",
    "\n",
    "1. Which host has the most listings?"
   ]
  },
  {
   "cell_type": "code",
   "execution_count": 20,
   "metadata": {},
   "outputs": [
    {
     "data": {
      "text/html": [
       "<div>\n",
       "<style scoped>\n",
       "    .dataframe tbody tr th:only-of-type {\n",
       "        vertical-align: middle;\n",
       "    }\n",
       "\n",
       "    .dataframe tbody tr th {\n",
       "        vertical-align: top;\n",
       "    }\n",
       "\n",
       "    .dataframe thead th {\n",
       "        text-align: right;\n",
       "    }\n",
       "</style>\n",
       "<table border=\"1\" class=\"dataframe\">\n",
       "  <thead>\n",
       "    <tr style=\"text-align: right;\">\n",
       "      <th></th>\n",
       "      <th>host_id</th>\n",
       "      <th>host_name</th>\n",
       "      <th>calculated_host_listings_count</th>\n",
       "    </tr>\n",
       "  </thead>\n",
       "  <tbody>\n",
       "    <tr>\n",
       "      <th>38293</th>\n",
       "      <td>219517861</td>\n",
       "      <td>Sonder (NYC)</td>\n",
       "      <td>327</td>\n",
       "    </tr>\n",
       "  </tbody>\n",
       "</table>\n",
       "</div>"
      ],
      "text/plain": [
       "         host_id     host_name  calculated_host_listings_count\n",
       "38293  219517861  Sonder (NYC)                             327"
      ]
     },
     "execution_count": 20,
     "metadata": {},
     "output_type": "execute_result"
    }
   ],
   "source": [
    "# Find the host with the most listings\n",
    "max_listings_host = air_bnb[air_bnb['calculated_host_listings_count'] == air_bnb['calculated_host_listings_count'].max()]\n",
    "\n",
    "# Since there can be multiple entries for the same host, we'll drop duplicates to get unique host details\n",
    "max_listings_host_unique = max_listings_host[['host_id', 'host_name', 'calculated_host_listings_count']].drop_duplicates()\n",
    "\n",
    "max_listings_host_unique\n",
    "\n"
   ]
  },
  {
   "cell_type": "markdown",
   "metadata": {},
   "source": [
    "2. How many listings have completely open availability?"
   ]
  },
  {
   "cell_type": "code",
   "execution_count": 21,
   "metadata": {},
   "outputs": [
    {
     "data": {
      "text/plain": [
       "1295"
      ]
     },
     "execution_count": 21,
     "metadata": {},
     "output_type": "execute_result"
    }
   ],
   "source": [
    "# Count listings with completely open availability (availability_365 = 365 days)\n",
    "open_availability_count = air_bnb[air_bnb['availability_365'] == 365].shape[0]\n",
    "\n",
    "open_availability_count\n"
   ]
  },
  {
   "cell_type": "markdown",
   "metadata": {},
   "source": [
    "3. What room_types have the highest review numbers?"
   ]
  },
  {
   "cell_type": "code",
   "execution_count": 22,
   "metadata": {},
   "outputs": [
    {
     "data": {
      "text/plain": [
       "room_type\n",
       "Entire home/apt    580403\n",
       "Private room       538346\n",
       "Shared room         19256\n",
       "Name: number_of_reviews, dtype: int64"
      ]
     },
     "execution_count": 22,
     "metadata": {},
     "output_type": "execute_result"
    }
   ],
   "source": [
    "# Summing up the number of reviews by room type\n",
    "reviews_by_room_type = air_bnb.groupby('room_type')['number_of_reviews'].sum()\n",
    "\n",
    "# Sorting the sum of reviews to find the room type with the highest number of reviews\n",
    "reviews_by_room_type_sorted = reviews_by_room_type.sort_values(ascending=False)\n",
    "\n",
    "reviews_by_room_type_sorted\n"
   ]
  },
  {
   "cell_type": "markdown",
   "metadata": {},
   "source": [
    "# Final Conclusion\n",
    "\n",
    "In this cell, write your final conclusion for each of the questions asked.\n",
    "\n",
    "Also, if you uncovered some more details that were not asked above, please discribe them here.\n",
    "\n",
    "-- Add your conclusion --"
   ]
  },
  {
   "cell_type": "code",
   "execution_count": null,
   "metadata": {},
   "outputs": [],
   "source": [
    "\n",
    "\n"
   ]
  },
  {
   "cell_type": "markdown",
   "metadata": {},
   "source": [
    "Based on the analysis of the questions Manhattan has the highest average listing price and the highest total price which could pose an issue to visitors who want to visit on a budget."
   ]
  }
 ],
 "metadata": {
  "kernelspec": {
   "display_name": "Python 3 (ipykernel)",
   "language": "python",
   "name": "python3"
  },
  "language_info": {
   "codemirror_mode": {
    "name": "ipython",
    "version": 3
   },
   "file_extension": ".py",
   "mimetype": "text/x-python",
   "name": "python",
   "nbconvert_exporter": "python",
   "pygments_lexer": "ipython3",
   "version": "3.11.5"
  }
 },
 "nbformat": 4,
 "nbformat_minor": 2
}
